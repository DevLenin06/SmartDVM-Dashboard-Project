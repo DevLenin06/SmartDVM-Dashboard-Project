{
 "cells": [
  {
   "cell_type": "code",
   "execution_count": 1,
   "id": "0a55192d",
   "metadata": {},
   "outputs": [],
   "source": [
    "import pandas as pd\n",
    "import numpy as np\n",
    "from sklearn.model_selection import train_test_split\n",
    "from sklearn.feature_extraction.text import TfidfVectorizer\n",
    "from sklearn.ensemble import RandomForestClassifier\n",
    "from sklearn.metrics import classification_report, accuracy_score\n",
    "from sklearn.preprocessing import LabelEncoder\n",
    "import joblib\n"
   ]
  },
  {
   "cell_type": "markdown",
   "id": "84cbc0c0",
   "metadata": {},
   "source": [
    "## Load the dataset"
   ]
  },
  {
   "cell_type": "code",
   "execution_count": 44,
   "id": "86ac7d49",
   "metadata": {},
   "outputs": [],
   "source": [
    "data = pd.read_csv(r\"C:/Users/devya/OneDrive/Desktop/AI-Integration-Project/animal_dis_me.csv\")"
   ]
  },
  {
   "cell_type": "markdown",
   "id": "90ed2c13",
   "metadata": {},
   "source": [
    "## Analyze the dataset"
   ]
  },
  {
   "cell_type": "code",
   "execution_count": 45,
   "id": "11d2ce23",
   "metadata": {
    "scrolled": true
   },
   "outputs": [
    {
     "data": {
      "text/html": [
       "<div>\n",
       "<style scoped>\n",
       "    .dataframe tbody tr th:only-of-type {\n",
       "        vertical-align: middle;\n",
       "    }\n",
       "\n",
       "    .dataframe tbody tr th {\n",
       "        vertical-align: top;\n",
       "    }\n",
       "\n",
       "    .dataframe thead th {\n",
       "        text-align: right;\n",
       "    }\n",
       "</style>\n",
       "<table border=\"1\" class=\"dataframe\">\n",
       "  <thead>\n",
       "    <tr style=\"text-align: right;\">\n",
       "      <th></th>\n",
       "      <th>sudden_death</th>\n",
       "      <th>blood_from_nose</th>\n",
       "      <th>trembling</th>\n",
       "      <th>difficult_breathing</th>\n",
       "      <th>blood_from_openings</th>\n",
       "      <th>fever</th>\n",
       "      <th>loss_of_appetite</th>\n",
       "      <th>dullness</th>\n",
       "      <th>swelling</th>\n",
       "      <th>recumnency</th>\n",
       "      <th>...</th>\n",
       "      <th>encephalitis</th>\n",
       "      <th>septicaemia</th>\n",
       "      <th>infertility</th>\n",
       "      <th>nacrotic_foci</th>\n",
       "      <th>diarrhea</th>\n",
       "      <th>weight_loss</th>\n",
       "      <th>shivering</th>\n",
       "      <th>drooling</th>\n",
       "      <th>excessive_urination</th>\n",
       "      <th>prognosis</th>\n",
       "    </tr>\n",
       "  </thead>\n",
       "  <tbody>\n",
       "    <tr>\n",
       "      <th>0</th>\n",
       "      <td>1</td>\n",
       "      <td>1</td>\n",
       "      <td>1</td>\n",
       "      <td>1</td>\n",
       "      <td>1</td>\n",
       "      <td>0</td>\n",
       "      <td>0</td>\n",
       "      <td>0</td>\n",
       "      <td>0</td>\n",
       "      <td>0</td>\n",
       "      <td>...</td>\n",
       "      <td>0</td>\n",
       "      <td>0</td>\n",
       "      <td>0</td>\n",
       "      <td>0</td>\n",
       "      <td>0</td>\n",
       "      <td>0</td>\n",
       "      <td>0</td>\n",
       "      <td>0</td>\n",
       "      <td>0</td>\n",
       "      <td>anthrax</td>\n",
       "    </tr>\n",
       "    <tr>\n",
       "      <th>1</th>\n",
       "      <td>0</td>\n",
       "      <td>1</td>\n",
       "      <td>1</td>\n",
       "      <td>1</td>\n",
       "      <td>1</td>\n",
       "      <td>0</td>\n",
       "      <td>0</td>\n",
       "      <td>0</td>\n",
       "      <td>0</td>\n",
       "      <td>0</td>\n",
       "      <td>...</td>\n",
       "      <td>0</td>\n",
       "      <td>0</td>\n",
       "      <td>0</td>\n",
       "      <td>0</td>\n",
       "      <td>0</td>\n",
       "      <td>0</td>\n",
       "      <td>0</td>\n",
       "      <td>0</td>\n",
       "      <td>0</td>\n",
       "      <td>anthrax</td>\n",
       "    </tr>\n",
       "    <tr>\n",
       "      <th>2</th>\n",
       "      <td>1</td>\n",
       "      <td>0</td>\n",
       "      <td>1</td>\n",
       "      <td>1</td>\n",
       "      <td>1</td>\n",
       "      <td>0</td>\n",
       "      <td>0</td>\n",
       "      <td>0</td>\n",
       "      <td>0</td>\n",
       "      <td>0</td>\n",
       "      <td>...</td>\n",
       "      <td>0</td>\n",
       "      <td>0</td>\n",
       "      <td>0</td>\n",
       "      <td>0</td>\n",
       "      <td>0</td>\n",
       "      <td>0</td>\n",
       "      <td>0</td>\n",
       "      <td>0</td>\n",
       "      <td>0</td>\n",
       "      <td>anthrax</td>\n",
       "    </tr>\n",
       "    <tr>\n",
       "      <th>3</th>\n",
       "      <td>1</td>\n",
       "      <td>1</td>\n",
       "      <td>0</td>\n",
       "      <td>1</td>\n",
       "      <td>1</td>\n",
       "      <td>0</td>\n",
       "      <td>0</td>\n",
       "      <td>0</td>\n",
       "      <td>0</td>\n",
       "      <td>0</td>\n",
       "      <td>...</td>\n",
       "      <td>0</td>\n",
       "      <td>0</td>\n",
       "      <td>0</td>\n",
       "      <td>0</td>\n",
       "      <td>0</td>\n",
       "      <td>0</td>\n",
       "      <td>0</td>\n",
       "      <td>0</td>\n",
       "      <td>0</td>\n",
       "      <td>anthrax</td>\n",
       "    </tr>\n",
       "    <tr>\n",
       "      <th>4</th>\n",
       "      <td>1</td>\n",
       "      <td>1</td>\n",
       "      <td>1</td>\n",
       "      <td>0</td>\n",
       "      <td>1</td>\n",
       "      <td>0</td>\n",
       "      <td>0</td>\n",
       "      <td>0</td>\n",
       "      <td>0</td>\n",
       "      <td>0</td>\n",
       "      <td>...</td>\n",
       "      <td>0</td>\n",
       "      <td>0</td>\n",
       "      <td>0</td>\n",
       "      <td>0</td>\n",
       "      <td>0</td>\n",
       "      <td>0</td>\n",
       "      <td>0</td>\n",
       "      <td>0</td>\n",
       "      <td>0</td>\n",
       "      <td>anthrax</td>\n",
       "    </tr>\n",
       "    <tr>\n",
       "      <th>5</th>\n",
       "      <td>1</td>\n",
       "      <td>1</td>\n",
       "      <td>1</td>\n",
       "      <td>1</td>\n",
       "      <td>0</td>\n",
       "      <td>0</td>\n",
       "      <td>0</td>\n",
       "      <td>0</td>\n",
       "      <td>0</td>\n",
       "      <td>0</td>\n",
       "      <td>...</td>\n",
       "      <td>0</td>\n",
       "      <td>0</td>\n",
       "      <td>0</td>\n",
       "      <td>0</td>\n",
       "      <td>0</td>\n",
       "      <td>0</td>\n",
       "      <td>0</td>\n",
       "      <td>0</td>\n",
       "      <td>0</td>\n",
       "      <td>anthrax</td>\n",
       "    </tr>\n",
       "    <tr>\n",
       "      <th>6</th>\n",
       "      <td>0</td>\n",
       "      <td>0</td>\n",
       "      <td>1</td>\n",
       "      <td>1</td>\n",
       "      <td>1</td>\n",
       "      <td>0</td>\n",
       "      <td>0</td>\n",
       "      <td>0</td>\n",
       "      <td>0</td>\n",
       "      <td>0</td>\n",
       "      <td>...</td>\n",
       "      <td>0</td>\n",
       "      <td>0</td>\n",
       "      <td>0</td>\n",
       "      <td>0</td>\n",
       "      <td>0</td>\n",
       "      <td>0</td>\n",
       "      <td>0</td>\n",
       "      <td>0</td>\n",
       "      <td>0</td>\n",
       "      <td>anthrax</td>\n",
       "    </tr>\n",
       "    <tr>\n",
       "      <th>7</th>\n",
       "      <td>1</td>\n",
       "      <td>1</td>\n",
       "      <td>0</td>\n",
       "      <td>0</td>\n",
       "      <td>1</td>\n",
       "      <td>0</td>\n",
       "      <td>0</td>\n",
       "      <td>0</td>\n",
       "      <td>0</td>\n",
       "      <td>0</td>\n",
       "      <td>...</td>\n",
       "      <td>0</td>\n",
       "      <td>0</td>\n",
       "      <td>0</td>\n",
       "      <td>0</td>\n",
       "      <td>0</td>\n",
       "      <td>0</td>\n",
       "      <td>0</td>\n",
       "      <td>0</td>\n",
       "      <td>0</td>\n",
       "      <td>anthrax</td>\n",
       "    </tr>\n",
       "    <tr>\n",
       "      <th>8</th>\n",
       "      <td>1</td>\n",
       "      <td>1</td>\n",
       "      <td>1</td>\n",
       "      <td>0</td>\n",
       "      <td>0</td>\n",
       "      <td>0</td>\n",
       "      <td>0</td>\n",
       "      <td>0</td>\n",
       "      <td>0</td>\n",
       "      <td>0</td>\n",
       "      <td>...</td>\n",
       "      <td>0</td>\n",
       "      <td>0</td>\n",
       "      <td>0</td>\n",
       "      <td>0</td>\n",
       "      <td>0</td>\n",
       "      <td>0</td>\n",
       "      <td>0</td>\n",
       "      <td>0</td>\n",
       "      <td>0</td>\n",
       "      <td>anthrax</td>\n",
       "    </tr>\n",
       "    <tr>\n",
       "      <th>9</th>\n",
       "      <td>0</td>\n",
       "      <td>1</td>\n",
       "      <td>1</td>\n",
       "      <td>1</td>\n",
       "      <td>0</td>\n",
       "      <td>0</td>\n",
       "      <td>0</td>\n",
       "      <td>0</td>\n",
       "      <td>0</td>\n",
       "      <td>0</td>\n",
       "      <td>...</td>\n",
       "      <td>0</td>\n",
       "      <td>0</td>\n",
       "      <td>0</td>\n",
       "      <td>0</td>\n",
       "      <td>0</td>\n",
       "      <td>0</td>\n",
       "      <td>0</td>\n",
       "      <td>0</td>\n",
       "      <td>0</td>\n",
       "      <td>anthrax</td>\n",
       "    </tr>\n",
       "  </tbody>\n",
       "</table>\n",
       "<p>10 rows × 38 columns</p>\n",
       "</div>"
      ],
      "text/plain": [
       "   sudden_death  blood_from_nose  trembling  difficult_breathing  \\\n",
       "0             1                1          1                    1   \n",
       "1             0                1          1                    1   \n",
       "2             1                0          1                    1   \n",
       "3             1                1          0                    1   \n",
       "4             1                1          1                    0   \n",
       "5             1                1          1                    1   \n",
       "6             0                0          1                    1   \n",
       "7             1                1          0                    0   \n",
       "8             1                1          1                    0   \n",
       "9             0                1          1                    1   \n",
       "\n",
       "   blood_from_openings  fever  loss_of_appetite  dullness  swelling  \\\n",
       "0                    1      0                 0         0         0   \n",
       "1                    1      0                 0         0         0   \n",
       "2                    1      0                 0         0         0   \n",
       "3                    1      0                 0         0         0   \n",
       "4                    1      0                 0         0         0   \n",
       "5                    0      0                 0         0         0   \n",
       "6                    1      0                 0         0         0   \n",
       "7                    1      0                 0         0         0   \n",
       "8                    0      0                 0         0         0   \n",
       "9                    0      0                 0         0         0   \n",
       "\n",
       "   recumnency  ...  encephalitis  septicaemia  infertility  nacrotic_foci  \\\n",
       "0           0  ...             0            0            0              0   \n",
       "1           0  ...             0            0            0              0   \n",
       "2           0  ...             0            0            0              0   \n",
       "3           0  ...             0            0            0              0   \n",
       "4           0  ...             0            0            0              0   \n",
       "5           0  ...             0            0            0              0   \n",
       "6           0  ...             0            0            0              0   \n",
       "7           0  ...             0            0            0              0   \n",
       "8           0  ...             0            0            0              0   \n",
       "9           0  ...             0            0            0              0   \n",
       "\n",
       "   diarrhea  weight_loss  shivering  drooling  excessive_urination  prognosis  \n",
       "0         0            0          0         0                    0    anthrax  \n",
       "1         0            0          0         0                    0    anthrax  \n",
       "2         0            0          0         0                    0    anthrax  \n",
       "3         0            0          0         0                    0    anthrax  \n",
       "4         0            0          0         0                    0    anthrax  \n",
       "5         0            0          0         0                    0    anthrax  \n",
       "6         0            0          0         0                    0    anthrax  \n",
       "7         0            0          0         0                    0    anthrax  \n",
       "8         0            0          0         0                    0    anthrax  \n",
       "9         0            0          0         0                    0    anthrax  \n",
       "\n",
       "[10 rows x 38 columns]"
      ]
     },
     "execution_count": 45,
     "metadata": {},
     "output_type": "execute_result"
    }
   ],
   "source": [
    "data.head(10)"
   ]
  },
  {
   "cell_type": "code",
   "execution_count": 46,
   "id": "a6402653",
   "metadata": {},
   "outputs": [
    {
     "name": "stdout",
     "output_type": "stream",
     "text": [
      "<class 'pandas.core.frame.DataFrame'>\n",
      "RangeIndex: 129 entries, 0 to 128\n",
      "Data columns (total 38 columns):\n",
      " #   Column               Non-Null Count  Dtype \n",
      "---  ------               --------------  ----- \n",
      " 0   sudden_death         129 non-null    int64 \n",
      " 1   blood_from_nose      129 non-null    int64 \n",
      " 2   trembling            129 non-null    int64 \n",
      " 3   difficult_breathing  129 non-null    int64 \n",
      " 4   blood_from_openings  129 non-null    int64 \n",
      " 5   fever                129 non-null    int64 \n",
      " 6   loss_of_appetite     129 non-null    int64 \n",
      " 7   dullness             129 non-null    int64 \n",
      " 8   swelling             129 non-null    int64 \n",
      " 9   recumnency           129 non-null    int64 \n",
      " 10  profuse_salivation   129 non-null    int64 \n",
      " 11  vesicles             129 non-null    int64 \n",
      " 12  lameness             129 non-null    int64 \n",
      " 13  change_in_behaviour  129 non-null    int64 \n",
      " 14  furious              129 non-null    int64 \n",
      " 15  dumbness             129 non-null    int64 \n",
      " 16  nasal_discharge      129 non-null    int64 \n",
      " 17  eye_discharge        129 non-null    int64 \n",
      " 18  haemorrages          129 non-null    int64 \n",
      " 19  lethargy             129 non-null    int64 \n",
      " 20  enteritis            129 non-null    int64 \n",
      " 21  abortion             129 non-null    int64 \n",
      " 22  no_breed             129 non-null    int64 \n",
      " 23  unwillingness        129 non-null    int64 \n",
      " 24  stiffness            129 non-null    int64 \n",
      " 25  eraction             129 non-null    int64 \n",
      " 26  mastication          129 non-null    int64 \n",
      " 27  paralysis            129 non-null    int64 \n",
      " 28  encephalitis         129 non-null    int64 \n",
      " 29  septicaemia          129 non-null    int64 \n",
      " 30  infertility          129 non-null    int64 \n",
      " 31  nacrotic_foci        129 non-null    int64 \n",
      " 32  diarrhea             129 non-null    int64 \n",
      " 33  weight_loss          129 non-null    int64 \n",
      " 34  shivering            129 non-null    int64 \n",
      " 35  drooling             129 non-null    int64 \n",
      " 36  excessive_urination  129 non-null    int64 \n",
      " 37  prognosis            129 non-null    object\n",
      "dtypes: int64(37), object(1)\n",
      "memory usage: 38.4+ KB\n"
     ]
    }
   ],
   "source": [
    "data.info()"
   ]
  },
  {
   "cell_type": "code",
   "execution_count": 47,
   "id": "bff9eb22",
   "metadata": {},
   "outputs": [
    {
     "data": {
      "text/plain": [
       "sudden_death           0\n",
       "blood_from_nose        0\n",
       "trembling              0\n",
       "difficult_breathing    0\n",
       "blood_from_openings    0\n",
       "fever                  0\n",
       "loss_of_appetite       0\n",
       "dullness               0\n",
       "swelling               0\n",
       "recumnency             0\n",
       "profuse_salivation     0\n",
       "vesicles               0\n",
       "lameness               0\n",
       "change_in_behaviour    0\n",
       "furious                0\n",
       "dumbness               0\n",
       "nasal_discharge        0\n",
       "eye_discharge          0\n",
       "haemorrages            0\n",
       "lethargy               0\n",
       "enteritis              0\n",
       "abortion               0\n",
       "no_breed               0\n",
       "unwillingness          0\n",
       "stiffness              0\n",
       "eraction               0\n",
       "mastication            0\n",
       "paralysis              0\n",
       "encephalitis           0\n",
       "septicaemia            0\n",
       "infertility            0\n",
       "nacrotic_foci          0\n",
       "diarrhea               0\n",
       "weight_loss            0\n",
       "shivering              0\n",
       "drooling               0\n",
       "excessive_urination    0\n",
       "prognosis              0\n",
       "dtype: int64"
      ]
     },
     "execution_count": 47,
     "metadata": {},
     "output_type": "execute_result"
    }
   ],
   "source": [
    "data.isnull().sum()"
   ]
  },
  {
   "cell_type": "markdown",
   "id": "9701f8a6",
   "metadata": {},
   "source": [
    "# Preprocess data"
   ]
  },
  {
   "cell_type": "markdown",
   "id": "b69ec941",
   "metadata": {},
   "source": [
    "### New Dataset"
   ]
  },
  {
   "cell_type": "code",
   "execution_count": null,
   "id": "7e7024b8",
   "metadata": {},
   "outputs": [],
   "source": [
    "\n"
   ]
  },
  {
   "cell_type": "code",
   "execution_count": 48,
   "id": "ac9d3356",
   "metadata": {},
   "outputs": [
    {
     "name": "stdout",
     "output_type": "stream",
     "text": [
      "<class 'pandas.core.frame.DataFrame'>\n",
      "RangeIndex: 129 entries, 0 to 128\n",
      "Data columns (total 38 columns):\n",
      " #   Column               Non-Null Count  Dtype \n",
      "---  ------               --------------  ----- \n",
      " 0   sudden_death         129 non-null    int64 \n",
      " 1   blood_from_nose      129 non-null    int64 \n",
      " 2   trembling            129 non-null    int64 \n",
      " 3   difficult_breathing  129 non-null    int64 \n",
      " 4   blood_from_openings  129 non-null    int64 \n",
      " 5   fever                129 non-null    int64 \n",
      " 6   loss_of_appetite     129 non-null    int64 \n",
      " 7   dullness             129 non-null    int64 \n",
      " 8   swelling             129 non-null    int64 \n",
      " 9   recumnency           129 non-null    int64 \n",
      " 10  profuse_salivation   129 non-null    int64 \n",
      " 11  vesicles             129 non-null    int64 \n",
      " 12  lameness             129 non-null    int64 \n",
      " 13  change_in_behaviour  129 non-null    int64 \n",
      " 14  furious              129 non-null    int64 \n",
      " 15  dumbness             129 non-null    int64 \n",
      " 16  nasal_discharge      129 non-null    int64 \n",
      " 17  eye_discharge        129 non-null    int64 \n",
      " 18  haemorrages          129 non-null    int64 \n",
      " 19  lethargy             129 non-null    int64 \n",
      " 20  enteritis            129 non-null    int64 \n",
      " 21  abortion             129 non-null    int64 \n",
      " 22  no_breed             129 non-null    int64 \n",
      " 23  unwillingness        129 non-null    int64 \n",
      " 24  stiffness            129 non-null    int64 \n",
      " 25  eraction             129 non-null    int64 \n",
      " 26  mastication          129 non-null    int64 \n",
      " 27  paralysis            129 non-null    int64 \n",
      " 28  encephalitis         129 non-null    int64 \n",
      " 29  septicaemia          129 non-null    int64 \n",
      " 30  infertility          129 non-null    int64 \n",
      " 31  nacrotic_foci        129 non-null    int64 \n",
      " 32  diarrhea             129 non-null    int64 \n",
      " 33  weight_loss          129 non-null    int64 \n",
      " 34  shivering            129 non-null    int64 \n",
      " 35  drooling             129 non-null    int64 \n",
      " 36  excessive_urination  129 non-null    int64 \n",
      " 37  prognosis            129 non-null    object\n",
      "dtypes: int64(37), object(1)\n",
      "memory usage: 38.4+ KB\n"
     ]
    }
   ],
   "source": [
    "data.info()"
   ]
  },
  {
   "cell_type": "markdown",
   "id": "e22eb28d",
   "metadata": {},
   "source": [
    "# Missing Values currently"
   ]
  },
  {
   "cell_type": "code",
   "execution_count": 60,
   "id": "a5c91274",
   "metadata": {},
   "outputs": [],
   "source": [
    "df = data.dropna(subset=['prognosis'])"
   ]
  },
  {
   "cell_type": "markdown",
   "id": "2a32e998",
   "metadata": {},
   "source": []
  },
  {
   "cell_type": "code",
   "execution_count": null,
   "id": "92e0c5d0",
   "metadata": {},
   "outputs": [],
   "source": []
  },
  {
   "cell_type": "code",
   "execution_count": 49,
   "id": "1808f202",
   "metadata": {},
   "outputs": [
    {
     "name": "stdout",
     "output_type": "stream",
     "text": [
      "Index(['sudden_death', 'blood_from_nose', 'trembling', 'difficult_breathing',\n",
      "       'blood_from_openings', 'fever', 'loss_of_appetite', 'dullness',\n",
      "       'swelling', 'recumnency', 'profuse_salivation', 'vesicles', 'lameness',\n",
      "       'change_in_behaviour', 'furious', 'dumbness', 'nasal_discharge',\n",
      "       'eye_discharge', 'haemorrages', 'lethargy', 'enteritis', 'abortion',\n",
      "       'no_breed', 'unwillingness', 'stiffness', 'eraction ', 'mastication',\n",
      "       'paralysis', 'encephalitis', 'septicaemia', 'infertility',\n",
      "       'nacrotic_foci', 'diarrhea', 'weight_loss', 'shivering', 'drooling',\n",
      "       'excessive_urination', 'prognosis'],\n",
      "      dtype='object')\n"
     ]
    }
   ],
   "source": [
    "print(data.columns)"
   ]
  },
  {
   "cell_type": "code",
   "execution_count": null,
   "id": "4fe0ab18",
   "metadata": {},
   "outputs": [],
   "source": []
  },
  {
   "cell_type": "code",
   "execution_count": 50,
   "id": "1cda6f4d",
   "metadata": {},
   "outputs": [
    {
     "name": "stdout",
     "output_type": "stream",
     "text": [
      "object\n"
     ]
    }
   ],
   "source": [
    "print(data['prognosis'].dtype)"
   ]
  },
  {
   "cell_type": "code",
   "execution_count": 51,
   "id": "a2815153",
   "metadata": {},
   "outputs": [
    {
     "name": "stdout",
     "output_type": "stream",
     "text": [
      "listeriosis                14\n",
      "bovine_ephemeral_fever     14\n",
      "blue_tongue                12\n",
      "west_nile_virus            11\n",
      "bovine_tuberculosis        11\n",
      "anthrax                    10\n",
      "johnes_disease              9\n",
      "chronic_wasting_disease     9\n",
      "tetanus                     8\n",
      "vibriosis                   8\n",
      "foot_and_mouth              7\n",
      "black_leg                   6\n",
      "rabies                      5\n",
      "pox                         2\n",
      "brucellosis                 2\n",
      "no_disease                  1\n",
      "Name: prognosis, dtype: int64\n"
     ]
    }
   ],
   "source": [
    "print(data['prognosis'].value_counts())\n"
   ]
  },
  {
   "cell_type": "markdown",
   "id": "dfc60de6",
   "metadata": {},
   "source": [
    "## Label the target variable"
   ]
  },
  {
   "cell_type": "code",
   "execution_count": 61,
   "id": "abf21efc",
   "metadata": {},
   "outputs": [],
   "source": [
    "X = df.drop('prognosis', axis=1)  # All columns except 'prognosis'\n",
    "y = df['prognosis']  "
   ]
  },
  {
   "cell_type": "code",
   "execution_count": 58,
   "id": "18fd1035",
   "metadata": {},
   "outputs": [],
   "source": []
  },
  {
   "cell_type": "code",
   "execution_count": null,
   "id": "36c30acc",
   "metadata": {},
   "outputs": [],
   "source": []
  },
  {
   "cell_type": "markdown",
   "id": "a4ad9c9a",
   "metadata": {},
   "source": [
    "## Shape issue??"
   ]
  },
  {
   "cell_type": "markdown",
   "id": "13920163",
   "metadata": {},
   "source": [
    "## Split the data into training and testing data"
   ]
  },
  {
   "cell_type": "code",
   "execution_count": 62,
   "id": "c6b2bd1d",
   "metadata": {},
   "outputs": [],
   "source": [
    "X_train, X_test, y_train, y_test = train_test_split(X, y, test_size=0.2, random_state=42)"
   ]
  },
  {
   "cell_type": "markdown",
   "id": "8d404789",
   "metadata": {},
   "source": [
    "## Initialize the Random Forest Model"
   ]
  },
  {
   "cell_type": "markdown",
   "id": "bd2ac2ae",
   "metadata": {},
   "source": [
    "## Reduce the number of estimators for better scores: 100 to 10?"
   ]
  },
  {
   "cell_type": "code",
   "execution_count": 63,
   "id": "2068c82f",
   "metadata": {},
   "outputs": [],
   "source": [
    "rf_model = RandomForestClassifier(n_estimators=10, random_state=42, class_weight='balanced')  "
   ]
  },
  {
   "cell_type": "markdown",
   "id": "effd9d6e",
   "metadata": {},
   "source": [
    "## Train the random forest model"
   ]
  },
  {
   "cell_type": "code",
   "execution_count": 64,
   "id": "c11efd05",
   "metadata": {
    "scrolled": true
   },
   "outputs": [
    {
     "data": {
      "text/html": [
       "<style>#sk-container-id-5 {color: black;}#sk-container-id-5 pre{padding: 0;}#sk-container-id-5 div.sk-toggleable {background-color: white;}#sk-container-id-5 label.sk-toggleable__label {cursor: pointer;display: block;width: 100%;margin-bottom: 0;padding: 0.3em;box-sizing: border-box;text-align: center;}#sk-container-id-5 label.sk-toggleable__label-arrow:before {content: \"▸\";float: left;margin-right: 0.25em;color: #696969;}#sk-container-id-5 label.sk-toggleable__label-arrow:hover:before {color: black;}#sk-container-id-5 div.sk-estimator:hover label.sk-toggleable__label-arrow:before {color: black;}#sk-container-id-5 div.sk-toggleable__content {max-height: 0;max-width: 0;overflow: hidden;text-align: left;background-color: #f0f8ff;}#sk-container-id-5 div.sk-toggleable__content pre {margin: 0.2em;color: black;border-radius: 0.25em;background-color: #f0f8ff;}#sk-container-id-5 input.sk-toggleable__control:checked~div.sk-toggleable__content {max-height: 200px;max-width: 100%;overflow: auto;}#sk-container-id-5 input.sk-toggleable__control:checked~label.sk-toggleable__label-arrow:before {content: \"▾\";}#sk-container-id-5 div.sk-estimator input.sk-toggleable__control:checked~label.sk-toggleable__label {background-color: #d4ebff;}#sk-container-id-5 div.sk-label input.sk-toggleable__control:checked~label.sk-toggleable__label {background-color: #d4ebff;}#sk-container-id-5 input.sk-hidden--visually {border: 0;clip: rect(1px 1px 1px 1px);clip: rect(1px, 1px, 1px, 1px);height: 1px;margin: -1px;overflow: hidden;padding: 0;position: absolute;width: 1px;}#sk-container-id-5 div.sk-estimator {font-family: monospace;background-color: #f0f8ff;border: 1px dotted black;border-radius: 0.25em;box-sizing: border-box;margin-bottom: 0.5em;}#sk-container-id-5 div.sk-estimator:hover {background-color: #d4ebff;}#sk-container-id-5 div.sk-parallel-item::after {content: \"\";width: 100%;border-bottom: 1px solid gray;flex-grow: 1;}#sk-container-id-5 div.sk-label:hover label.sk-toggleable__label {background-color: #d4ebff;}#sk-container-id-5 div.sk-serial::before {content: \"\";position: absolute;border-left: 1px solid gray;box-sizing: border-box;top: 0;bottom: 0;left: 50%;z-index: 0;}#sk-container-id-5 div.sk-serial {display: flex;flex-direction: column;align-items: center;background-color: white;padding-right: 0.2em;padding-left: 0.2em;position: relative;}#sk-container-id-5 div.sk-item {position: relative;z-index: 1;}#sk-container-id-5 div.sk-parallel {display: flex;align-items: stretch;justify-content: center;background-color: white;position: relative;}#sk-container-id-5 div.sk-item::before, #sk-container-id-5 div.sk-parallel-item::before {content: \"\";position: absolute;border-left: 1px solid gray;box-sizing: border-box;top: 0;bottom: 0;left: 50%;z-index: -1;}#sk-container-id-5 div.sk-parallel-item {display: flex;flex-direction: column;z-index: 1;position: relative;background-color: white;}#sk-container-id-5 div.sk-parallel-item:first-child::after {align-self: flex-end;width: 50%;}#sk-container-id-5 div.sk-parallel-item:last-child::after {align-self: flex-start;width: 50%;}#sk-container-id-5 div.sk-parallel-item:only-child::after {width: 0;}#sk-container-id-5 div.sk-dashed-wrapped {border: 1px dashed gray;margin: 0 0.4em 0.5em 0.4em;box-sizing: border-box;padding-bottom: 0.4em;background-color: white;}#sk-container-id-5 div.sk-label label {font-family: monospace;font-weight: bold;display: inline-block;line-height: 1.2em;}#sk-container-id-5 div.sk-label-container {text-align: center;}#sk-container-id-5 div.sk-container {/* jupyter's `normalize.less` sets `[hidden] { display: none; }` but bootstrap.min.css set `[hidden] { display: none !important; }` so we also need the `!important` here to be able to override the default hidden behavior on the sphinx rendered scikit-learn.org. See: https://github.com/scikit-learn/scikit-learn/issues/21755 */display: inline-block !important;position: relative;}#sk-container-id-5 div.sk-text-repr-fallback {display: none;}</style><div id=\"sk-container-id-5\" class=\"sk-top-container\"><div class=\"sk-text-repr-fallback\"><pre>RandomForestClassifier(class_weight=&#x27;balanced&#x27;, n_estimators=10,\n",
       "                       random_state=42)</pre><b>In a Jupyter environment, please rerun this cell to show the HTML representation or trust the notebook. <br />On GitHub, the HTML representation is unable to render, please try loading this page with nbviewer.org.</b></div><div class=\"sk-container\" hidden><div class=\"sk-item\"><div class=\"sk-estimator sk-toggleable\"><input class=\"sk-toggleable__control sk-hidden--visually\" id=\"sk-estimator-id-5\" type=\"checkbox\" checked><label for=\"sk-estimator-id-5\" class=\"sk-toggleable__label sk-toggleable__label-arrow\">RandomForestClassifier</label><div class=\"sk-toggleable__content\"><pre>RandomForestClassifier(class_weight=&#x27;balanced&#x27;, n_estimators=10,\n",
       "                       random_state=42)</pre></div></div></div></div></div>"
      ],
      "text/plain": [
       "RandomForestClassifier(class_weight='balanced', n_estimators=10,\n",
       "                       random_state=42)"
      ]
     },
     "execution_count": 64,
     "metadata": {},
     "output_type": "execute_result"
    }
   ],
   "source": [
    "rf_model.fit(X_train, y_train)"
   ]
  },
  {
   "cell_type": "markdown",
   "id": "5694134d",
   "metadata": {},
   "source": [
    "## Evaluate the Model using the Test Data"
   ]
  },
  {
   "cell_type": "code",
   "execution_count": 65,
   "id": "3721dff2",
   "metadata": {},
   "outputs": [
    {
     "name": "stdout",
     "output_type": "stream",
     "text": [
      "\n",
      "Accuracy: 0.8461538461538461\n",
      "\n",
      "Classification Report:\n",
      "                          precision    recall  f1-score   support\n",
      "\n",
      "                anthrax       1.00      1.00      1.00         1\n",
      "              black_leg       1.00      1.00      1.00         2\n",
      "            blue_tongue       1.00      1.00      1.00         2\n",
      " bovine_ephemeral_fever       1.00      1.00      1.00         3\n",
      "    bovine_tuberculosis       0.00      0.00      0.00         2\n",
      "chronic_wasting_disease       1.00      1.00      1.00         3\n",
      "         foot_and_mouth       1.00      1.00      1.00         2\n",
      "         johnes_disease       0.50      0.50      0.50         2\n",
      "            listeriosis       1.00      1.00      1.00         3\n",
      "                    pox       1.00      1.00      1.00         1\n",
      "                 rabies       1.00      0.50      0.67         2\n",
      "                tetanus       1.00      1.00      1.00         1\n",
      "              vibriosis       1.00      1.00      1.00         1\n",
      "        west_nile_virus       0.33      1.00      0.50         1\n",
      "\n",
      "               accuracy                           0.85        26\n",
      "              macro avg       0.85      0.86      0.83        26\n",
      "           weighted avg       0.86      0.85      0.84        26\n",
      "\n"
     ]
    }
   ],
   "source": [
    "y_pred = rf_model.predict(X_test)\n",
    "print(\"\\nAccuracy:\", accuracy_score(y_test, y_pred))\n",
    "print(\"\\nClassification Report:\\n\", classification_report(y_test, y_pred))"
   ]
  },
  {
   "cell_type": "markdown",
   "id": "1c427226",
   "metadata": {},
   "source": []
  },
  {
   "cell_type": "markdown",
   "id": "16b9e19e",
   "metadata": {},
   "source": [
    "## Here is another way to run the model"
   ]
  },
  {
   "cell_type": "code",
   "execution_count": 31,
   "id": "4d143f1d",
   "metadata": {},
   "outputs": [],
   "source": [
    "from sklearn.model_selection import LeaveOneOut, cross_val_score\n"
   ]
  },
  {
   "cell_type": "markdown",
   "id": "084db80e",
   "metadata": {},
   "source": []
  },
  {
   "cell_type": "code",
   "execution_count": 32,
   "id": "c8f7de79",
   "metadata": {},
   "outputs": [],
   "source": [
    "loo = LeaveOneOut()"
   ]
  },
  {
   "cell_type": "code",
   "execution_count": 33,
   "id": "21dd980e",
   "metadata": {},
   "outputs": [],
   "source": [
    "rf_model = RandomForestClassifier(n_estimators=100, random_state=42, class_weight='balanced')"
   ]
  },
  {
   "cell_type": "markdown",
   "id": "b2de13f5",
   "metadata": {},
   "source": []
  },
  {
   "cell_type": "code",
   "execution_count": 34,
   "id": "6a7f691a",
   "metadata": {},
   "outputs": [],
   "source": [
    "scores = cross_val_score(rf_model, features, labels, cv=loo)"
   ]
  },
  {
   "cell_type": "code",
   "execution_count": 35,
   "id": "83f2bce8",
   "metadata": {},
   "outputs": [
    {
     "name": "stdout",
     "output_type": "stream",
     "text": [
      "LOOCV Accuracy: 0.0\n"
     ]
    }
   ],
   "source": [
    "print(\"LOOCV Accuracy:\", scores.mean())"
   ]
  },
  {
   "cell_type": "markdown",
   "id": "ed20a007",
   "metadata": {},
   "source": []
  },
  {
   "cell_type": "code",
   "execution_count": null,
   "id": "0e2eeedc",
   "metadata": {},
   "outputs": [],
   "source": []
  },
  {
   "cell_type": "code",
   "execution_count": null,
   "id": "d6a448df",
   "metadata": {},
   "outputs": [],
   "source": []
  }
 ],
 "metadata": {
  "kernelspec": {
   "display_name": "Python 3 (ipykernel)",
   "language": "python",
   "name": "python3"
  },
  "language_info": {
   "codemirror_mode": {
    "name": "ipython",
    "version": 3
   },
   "file_extension": ".py",
   "mimetype": "text/x-python",
   "name": "python",
   "nbconvert_exporter": "python",
   "pygments_lexer": "ipython3",
   "version": "3.11.4"
  }
 },
 "nbformat": 4,
 "nbformat_minor": 5
}
